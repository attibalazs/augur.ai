{
 "cells": [
  {
   "cell_type": "code",
   "execution_count": 12,
   "metadata": {
    "collapsed": true
   },
   "outputs": [],
   "source": [
    "import pandas as pd\n",
    "from h5py import File as H5File\n",
    "from scipy.interpolate import interp1d \n",
    "import numpy as np\n",
    "import sys\n",
    "from os import remove\n"
   ]
  },
  {
   "cell_type": "code",
   "execution_count": 14,
   "metadata": {},
   "outputs": [
    {
     "name": "stdout",
     "output_type": "stream",
     "text": [
      "10 346\n",
      "10 347\n"
     ]
    }
   ],
   "source": [
    "import pandas as pd\n",
    "from h5py import File as H5File\n",
    "from scipy.interpolate import interp1d \n",
    "import numpy as np\n",
    "import sys\n",
    "from os import remove\n",
    "\n",
    "sensors = [\"IDH\", \"VDH\", \"PCAS\", \"PINP\", \"PTUB\"]\n",
    "\n",
    "dontdel = '/home/ubuntu/data/esp_data_offline.h5'\n",
    "\n",
    "#remove(\"new_data.h5\")\n",
    "gp = H5File(\"new_data-2.h5\",\"w\")\n",
    "\n",
    "with H5File(dontdel, \"r\")  as fp:\n",
    "\n",
    "#    for field in fp.keys():\n",
    "#        for well in fp[field].keys():\n",
    "    for field in ['10']:\n",
    "        \n",
    "        for well in fp[field].keys():\n",
    "            \n",
    "            print (field, well)\n",
    "            \n",
    "            tmin = 0\n",
    "            tmax = np.int(1E+16)            \n",
    "                                                \n",
    "            for sensor in sensors:\n",
    "\n",
    "               if(sensor in fp[field][well].keys()):\n",
    "                    \n",
    "                    times = fp[field][well][sensor][:,0]\n",
    "                    values = fp[field][well][sensor][:,1]\n",
    "                    \n",
    "                    indx = np.argsort(times)\n",
    "                    \n",
    "                    times = times[indx]\n",
    "                    values = values[indx]\n",
    "                    \n",
    "                    if (times[0] > tmin):\n",
    "                        tmin = times[0]\n",
    "                        \n",
    "                    if (times[-1] < tmax):\n",
    "                        tmax = times[-1]\n",
    "                        \n",
    "            all_times = np.arange(tmin, tmax, 60)\n",
    "            \n",
    "            all_data = np.empty((len(all_times),len(sensors)+1))                \n",
    "            all_data[:] = np.nan\n",
    "                \n",
    "            all_data[:,0] = all_times\n",
    "            \n",
    "            if(len(all_times) < 1000):\n",
    "                continue \n",
    "                \n",
    "            for i in range(len(sensors)):\n",
    "                \n",
    "               sensor = sensors[i] \n",
    "               if(sensor in fp[field][well].keys()):\n",
    "                      \n",
    "                    times = fp[field][well][sensor][:,0]\n",
    "                    values = fp[field][well][sensor][:,1]\n",
    "                    \n",
    "                    indx = np.argsort(times)\n",
    "                    \n",
    "                    times = times[indx]\n",
    "                    values = values[indx]\n",
    "                              \n",
    "                                                                                                                                                                                            \n",
    "                    f = interp1d(times, values)\n",
    "                        \n",
    "                    result =  f(all_times)\n",
    "                    \n",
    "                    all_data[:,i+1] = result\n",
    "                                       \n",
    "            gp.create_dataset(\"/%s/%s\" % (field, well), data=all_data)\n",
    "gp.close()                \n",
    "                      \n",
    "\n"
   ]
  }
 ],
 "metadata": {
  "kernelspec": {
   "display_name": "Python 3",
   "language": "python",
   "name": "python3"
  },
  "language_info": {
   "codemirror_mode": {
    "name": "ipython",
    "version": 3
   },
   "file_extension": ".py",
   "mimetype": "text/x-python",
   "name": "python",
   "nbconvert_exporter": "python",
   "pygments_lexer": "ipython3",
   "version": "3.5.2"
  }
 },
 "nbformat": 4,
 "nbformat_minor": 2
}
