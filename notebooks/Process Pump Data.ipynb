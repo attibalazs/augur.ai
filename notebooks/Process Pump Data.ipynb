{
 "cells": [
  {
   "cell_type": "code",
   "execution_count": 1,
   "metadata": {
    "collapsed": true
   },
   "outputs": [],
   "source": [
    "import pandas as pd\n",
    "from h5py import File as H5File\n",
    "from scipy.interpolate import interp1d \n",
    "import numpy as np\n",
    "import sys\n",
    "from os import remove\n"
   ]
  },
  {
   "cell_type": "code",
   "execution_count": 20,
   "metadata": {},
   "outputs": [
    {
     "name": "stdout",
     "output_type": "stream",
     "text": [
      "1 1\n"
     ]
    }
   ],
   "source": [
    "\n",
    "fields = fp.keys()\n",
    "sensors = [\"IDH\", \"VDH\", \"PCAS\", \"PINP\", \"PTUB\", \"YRUN\"]\n",
    "\n",
    "dontdel = '/home/ubuntu/data/esp_data_offline.h5'\n",
    "\n",
    "#remove(\"new_data.h5\")\n",
    "gp = H5File(\"new_data.h5\",\"w\")\n",
    "\n",
    "with H5File(dontdel, \"r\")  as fp:\n",
    "\n",
    "#    for field in fp.keys():\n",
    "#        for well in fp[field].keys():\n",
    "    for field in ['1']:\n",
    "        \n",
    "        for well in fp[field].keys():\n",
    "            \n",
    "            print (field, well)\n",
    "            \n",
    "            tmin = 0\n",
    "            tmax = np.int(1E+16)            \n",
    "                                                \n",
    "            for sensor in sensors:\n",
    "\n",
    "               if(sensor in fp[field][well].keys()):\n",
    "                    \n",
    "                    times = fp[field][well][sensor][:,0]\n",
    "                    values = fp[field][well][sensor][:,1]\n",
    "                    \n",
    "                    indx = np.argsort(times)\n",
    "                    \n",
    "                    times = times[indx]\n",
    "                    values = values[indx]\n",
    "                    \n",
    "                    if (times[0] > tmin):\n",
    "                        tmin = times[0]\n",
    "                        \n",
    "                    if (times[-1] < tmax):\n",
    "                        tmax = times[-1]\n",
    "                        \n",
    "            all_times = np.arange(tmin, tmax)\n",
    "            \n",
    "            all_data = np.empty((len(all_times),len(sensors)+1))                \n",
    "            all_data[:] = np.nan\n",
    "                \n",
    "            all_data[:,0] = all_times\n",
    "            \n",
    "            if(len(all_times) < 1000):\n",
    "                continue \n",
    "                \n",
    "            for i in range(len(sensors)):\n",
    "                \n",
    "               sensor = sensors[i] \n",
    "               if(sensor in fp[field][well].keys()):\n",
    "                      \n",
    "                    times = fp[field][well][sensor][:,0]\n",
    "                    values = fp[field][well][sensor][:,1]\n",
    "                    \n",
    "                    indx = np.argsort(times)\n",
    "                    \n",
    "                    times = times[indx]\n",
    "                    values = values[indx]\n",
    "                              \n",
    "                                                                                                                                                                                            \n",
    "                    f = interp1d(times, values)\n",
    "                        \n",
    "                    result =  f(all_times)\n",
    "                    \n",
    "                    all_data[:,i+1] = result\n",
    "                                       \n",
    "            gp.create_dataset(\"/%s/%s\" % (field, well), data=all_data)\n",
    "gp.close()                \n",
    "                      \n",
    "\n"
   ]
  },
  {
   "cell_type": "code",
   "execution_count": 2,
   "metadata": {},
   "outputs": [],
   "source": [
    "\n",
    "import matplotlib.pylab as plt\n",
    "from scipy.signal import medfilt\n",
    "\n",
    "with H5File(\"new_data.h5\", \"r\")  as fp:\n",
    "    data =  fp[\"/1/1\"][:10000]\n",
    "    \n",
    "idh = medfilt(data[:,1], 101)\n",
    "vdh = medfilt(data[:,2], 101)\n",
    "\n",
    "\n",
    "\n",
    "\n",
    "\n"
   ]
  },
  {
   "cell_type": "code",
   "execution_count": 5,
   "metadata": {},
   "outputs": [
    {
     "data": {
      "image/png": "[encoded data removed]",
      "text/plain": [
       "<matplotlib.figure.Figure at 0x7f99e239e7f0>"
      ]
     },
     "metadata": {},
     "output_type": "display_data"
    }
   ],
   "source": [
    "plt.plot(idh[::10])\n",
    "plt.plot(vdh[::10])\n",
    "plt.show()"
   ]
  },
  {
   "cell_type": "code",
   "execution_count": 6,
   "metadata": {},
   "outputs": [
    {
     "name": "stderr",
     "output_type": "stream",
     "text": [
      "/usr/local/lib/python3.5/dist-packages/statsmodels/compat/pandas.py:56: FutureWarning: The pandas.core.datetools module is deprecated and will be removed in a future version. Please use the pandas.tseries module instead.\n",
      "  from pandas.core import datetools\n"
     ]
    }
   ],
   "source": [
    "import statsmodels.tsa.stattools as ts\n",
    "\n",
    "coin_result = ts.coint(idh, vdh) \n",
    "\n",
    "\n",
    "\n",
    "\n",
    "\n"
   ]
  },
  {
   "cell_type": "code",
   "execution_count": 7,
   "metadata": {},
   "outputs": [
    {
     "name": "stdout",
     "output_type": "stream",
     "text": [
      "(-6.913524928402345, 1.376495207496058e-08, array([-3.89753563, -3.33674114, -3.04487419]))\n"
     ]
    }
   ],
   "source": [
    "print (coin_result)"
   ]
  },
  {
   "cell_type": "code",
   "execution_count": 38,
   "metadata": {},
   "outputs": [
    {
     "data": {
      "image/png": "[encoded data removed]",
      "text/plain": [
       "<matplotlib.figure.Figure at 0x7f6f3fb3ab70>"
      ]
     },
     "metadata": {},
     "output_type": "display_data"
    }
   ],
   "source": [
    "plt.hist(data[::1000,1],100)\n",
    "plt.show()"
   ]
  }
 ],
 "metadata": {
  "kernelspec": {
   "display_name": "Python 3",
   "language": "python",
   "name": "python3"
  },
  "language_info": {
   "codemirror_mode": {
    "name": "ipython",
    "version": 3
   },
   "file_extension": ".py",
   "mimetype": "text/x-python",
   "name": "python",
   "nbconvert_exporter": "python",
   "pygments_lexer": "ipython3",
   "version": "3.5.2"
  }
 },
 "nbformat": 4,
 "nbformat_minor": 2
}
