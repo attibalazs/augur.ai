{
 "cells": [
  {
   "cell_type": "code",
   "execution_count": 4,
   "metadata": {},
   "outputs": [],
   "source": [
    "import numpy as np\n",
    "import pandas as pd\n",
    "import datetime as dt\n",
    "from numpy.random import rand\n",
    "import matplotlib.pylab as plt\n",
    "from sklearn import svm\n",
    "\n",
    "def RandSmplSeq(data, n_minutes, m_samples):\n",
    "    rng = data.index[-1] - data.index[0]\n",
    "    \n",
    "    for i in range(0, m_samples):\n",
    "        indx = rand() * rng + data.index[0]\n",
    "        smp = data.loc[indx:indx+n_minutes]        \n",
    "        yield smp        \n",
    "\n",
    "def ReverseArrangement(smp, dirn=1):\n",
    "    \"\"\"\n",
    "    smp assumed to be ordered\n",
    "    \"\"\"\n",
    "    \n",
    "    # \"A\" from the murray paper\n",
    "    if dirn > 0:\n",
    "        A = [ np.sum(smp.values[i+1:,:] > smp.values[i,:], axis=0) for i in range(0, smp.shape[0]-2)]\n",
    "    else:\n",
    "        A = [ np.sum(smp.values[i+1:,:] < smp.values[i,:], axis=0) for i in range(0, smp.shape[0]-2)]\n",
    "                 \n",
    "    return np.atleast_1d(np.sum(A, axis=0))\n",
    "       \n",
    "# Imagine I censored the data\n",
    "data = pd.read_csv(\"~/data/esp_data_one_month_10_minute_interval.csv\")\n",
    "\n",
    "# update index to minutes since epoch\n",
    "index = np.array([(dt.datetime.strptime(i, \"%m/%d/%y %H:%M\") - \n",
    "                    dt.datetime(1970,1,1)).total_seconds()/60 for i in data['DateTime'] ], \n",
    "                       dtype=np.int64)\n",
    "data.index = index\n",
    "data.drop('DateTime', 1, inplace=True)\n",
    "\n",
    "\n",
    "# I'm going to use this supposing it's good\n",
    "RAseq = []\n",
    "for i in RandSmplSeq(data, 600, 2000):\n",
    "    x = ReverseArrangement(i,dirn=1)    \n",
    "    if(len(x) == 21):\n",
    "        RAseq.append(x)    \n",
    "result_noseq = np.vstack(RAseq)\n",
    "\n",
    "# final 10-hours going to suppose that this was bad\n",
    "smp = data.iloc[-60:]\n",
    "x = ReverseArrangement(smp)\n",
    "last = x*4/(60.*59)\n",
    "\n",
    "# just fake it 'til we make it:\n",
    "result_failed = []\n",
    "for i in range(0, 100):\n",
    "    result_failed.append(last + np.random.randn(21)*0.1)\n",
    "\n",
    "# maybe these are good indicators of failure\n",
    "PCAS = 9\n",
    "PINP = 10\n",
    "\n",
    "pcas = np.append([i[PCAS] for i in result_noseq], [i[PCAS] for i in result_failed])\n",
    "pinp = np.append([i[PINP] for i in result_noseq], [i[PINP] for i in result_failed])\n",
    "\n",
    "inputs = np.vstack((pcas, pinp)).T\n",
    "klass = np.append(np.ones(result_noseq.shape[0]), -np.ones(len(result_failed)))\n",
    "\n",
    "# we probably should have compact support \n",
    "poly_svc = svm.SVC(kernel='rbf').fit(inputs, klass)\n",
    "\n"
   ]
  },
  {
   "cell_type": "code",
   "execution_count": 5,
   "metadata": {
    "collapsed": true
   },
   "outputs": [],
   "source": [
    "# how well does it perform:\n",
    "test = np.array([poly_svc.predict([[last[PCAS] + np.random.randn() * 0.1, last[PINP] + \n",
    "                                                 np.random.randn()]])[0] for i in range(0,100)])\n"
   ]
  },
  {
   "cell_type": "code",
   "execution_count": 6,
   "metadata": {},
   "outputs": [
    {
     "data": {
      "image/png": "[encoded data removed]",
      "text/plain": [
       "<matplotlib.figure.Figure at 0x7f4d31251198>"
      ]
     },
     "metadata": {},
     "output_type": "display_data"
    }
   ],
   "source": [
    "\n",
    "\n",
    "\n",
    "plt.bar([1,0], [np.sum(test < 0), np.sum(test>0)], align='center', alpha=0.5)\n",
    "plt.xticks([1,0], [\"Pass\", \"Fail\"])\n",
    "plt.ylabel('Percentage')\n",
    "plt.title('Programming language usage')\n",
    "plt.show()\n",
    "\n"
   ]
  },
  {
   "cell_type": "code",
   "execution_count": null,
   "metadata": {
    "collapsed": true
   },
   "outputs": [],
   "source": []
  }
 ],
 "metadata": {
  "kernelspec": {
   "display_name": "Python 3",
   "language": "python",
   "name": "python3"
  },
  "language_info": {
   "codemirror_mode": {
    "name": "ipython",
    "version": 3
   },
   "file_extension": ".py",
   "mimetype": "text/x-python",
   "name": "python",
   "nbconvert_exporter": "python",
   "pygments_lexer": "ipython3",
   "version": "3.5.2"
  }
 },
 "nbformat": 4,
 "nbformat_minor": 2
}
