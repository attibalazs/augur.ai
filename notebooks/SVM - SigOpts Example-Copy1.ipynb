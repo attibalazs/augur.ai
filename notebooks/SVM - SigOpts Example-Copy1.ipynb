{
 "cells": [
  {
   "cell_type": "code",
   "execution_count": 1,
   "metadata": {
    "collapsed": true
   },
   "outputs": [],
   "source": [
    "import numpy as np\n",
    "import pandas as pd\n",
    "import datetime as dt\n",
    "from numpy.random import rand\n",
    "import matplotlib.pylab as plt\n",
    "from sklearn import svm\n",
    "from sigopt_sklearn.search import SigOptSearchCV\n",
    "\n",
    "def RandSmplSeq(data, n_minutes, m_samples):\n",
    "    rng = data.index[-1] - data.index[0]\n",
    "    \n",
    "    for i in range(0, m_samples):\n",
    "        indx = rand() * rng + data.index[0]\n",
    "        smp = data.loc[indx:indx+n_minutes]        \n",
    "        yield smp        \n",
    "\n",
    "def ReverseArrangement(smp, dirn=1):\n",
    "    \"\"\"\n",
    "    smp assumed to be ordered\n",
    "    \"\"\"\n",
    "    # \"A\" from the murray paper\n",
    "    if dirn > 0:\n",
    "        A = [ np.sum(smp.values[i+1:,:] > smp.values[i,:], axis=0) for i in range(0, smp.shape[0]-2)]\n",
    "    else:\n",
    "        A = [ np.sum(smp.values[i+1:,:] < smp.values[i,:], axis=0) for i in range(0, smp.shape[0]-2)]\n",
    "                 \n",
    "    return np.atleast_1d(np.sum(A, axis=0))\n",
    "       \n",
    " "
   ]
  },
  {
   "cell_type": "code",
   "execution_count": 19,
   "metadata": {},
   "outputs": [
    {
     "name": "stdout",
     "output_type": "stream",
     "text": [
      "Index([u'YRUN', u'VDH', u'EDH', u'PINP', u'IDH'], dtype='object')\n"
     ]
    }
   ],
   "source": [
    "#df = pd.read_hdf('/home/ubuntu/data/wells/12_362.h5', 'data')\n",
    "df = pd.read_hdf('/home/ubuntu/data/wells/10_346.h5', 'data')\n",
    "print (df.columns)\n",
    "df = df[::60]"
   ]
  },
  {
   "cell_type": "code",
   "execution_count": 24,
   "metadata": {},
   "outputs": [
    {
     "data": {
      "image/png": "[encoded data removed]",
      "text/plain": [
       "<matplotlib.figure.Figure at 0x7f101326d050>"
      ]
     },
     "metadata": {},
     "output_type": "display_data"
    }
   ],
   "source": [
    "df['PINP'].plot()\n",
    "plt.show()"
   ]
  },
  {
   "cell_type": "code",
   "execution_count": null,
   "metadata": {
    "collapsed": true
   },
   "outputs": [],
   "source": [
    "# I'm going to use this supposing it's good\n",
    "RAseq = []\n",
    "for i in RandSmplSeq(data, 600, 2000):\n",
    "    x = ReverseArrangement(i,dirn=1)    \n",
    "    if(len(x) == 21):\n",
    "        RAseq.append(x)    \n",
    "result_seq = np.vstack(RAseq)\n"
   ]
  },
  {
   "cell_type": "code",
   "execution_count": 3,
   "metadata": {},
   "outputs": [
    {
     "name": "stdout",
     "output_type": "stream",
     "text": [
      "10_346.h5  12_351.h5  12_356.h5  12_361.h5  12_366.h5  12_371.h5  12_376.h5\r\n",
      "10_347.h5  12_352.h5  12_357.h5  12_362.h5  12_367.h5  12_372.h5  13_388.h5\r\n",
      "11_348.h5  12_353.h5  12_358.h5  12_363.h5  12_368.h5  12_373.h5  1_1.h5\r\n",
      "12_349.h5  12_354.h5  12_359.h5  12_364.h5  12_369.h5  12_374.h5  2_26.h5\r\n",
      "12_350.h5  12_355.h5  12_360.h5  12_365.h5  12_370.h5  12_375.h5\r\n"
     ]
    }
   ],
   "source": [
    "ls ~/data/wells"
   ]
  },
  {
   "cell_type": "code",
   "execution_count": 11,
   "metadata": {},
   "outputs": [
    {
     "name": "stdout",
     "output_type": "stream",
     "text": [
      "SigOptSearchCV(client_token=None, cv=5, cv_timeout=None, error_score='raise',\n",
      "        estimator=SVC(C=1.0, cache_size=200, class_weight=None, coef0=0.0,\n",
      "  decision_function_shape='ovr', degree=3, gamma='auto', kernel='rbf',\n",
      "  max_iter=-1, probability=False, random_state=None, shrinking=True,\n",
      "  tol=0.001, verbose=False),\n",
      "        fit_params=None, iid=True, n_iter=20, n_jobs=5, n_sug=1,\n",
      "        opt_timeout=None,\n",
      "        param_domains={'kernel': ['linear', 'rbf'], 'C': (0.5, 100)},\n",
      "        pre_dispatch='2*n_jobs', refit=True, scoring=None,\n",
      "        sigopt_connection=<sigopt.interface.Connection object at 0x7f5e28a9d350>,\n",
      "        verbose=0)\n"
     ]
    }
   ],
   "source": [
    "   \n",
    "    \n",
    "    \n",
    "\n",
    "# I'm going to use this supposing it's good\n",
    "RAseq = []\n",
    "for i in RandSmplSeq(data, 600, 2000):\n",
    "    x = ReverseArrangement(i,dirn=1)    \n",
    "    if(len(x) == 21):\n",
    "        RAseq.append(x)    \n",
    "result_noseq = np.vstack(RAseq)\n",
    "\n",
    "# final 10-hours going to suppose that this was bad\n",
    "smp = data.iloc[-60:]\n",
    "x = ReverseArrangement(smp)\n",
    "last = x*4/(60.*59)\n",
    "\n",
    "# just fake it 'til we make it:\n",
    "result_failed = []\n",
    "for i in range(0, 100):\n",
    "    result_failed.append(last + np.random.randn(21)*0.1)\n",
    "\n",
    "# maybe these are good indicators of failure\n",
    "PCAS = 9\n",
    "PINP = 10\n",
    "\n",
    "pcas = np.append([i[PCAS] for i in result_noseq], [i[PCAS] for i in result_failed])\n",
    "pinp = np.append([i[PINP] for i in result_noseq], [i[PINP] for i in result_failed])\n",
    "\n",
    "inputs = np.vstack((pcas, pinp)).T\n",
    "klass = np.append(np.ones(result_noseq.shape[0]), -np.ones(len(result_failed)))\n",
    "\n",
    "\n",
    "client_token = 'GTIUUZSJMPWEFPHYZRTAGRGLEOSMFTMDZKHEZFLHYVUNUSQK'\n",
    "\n",
    "svc_parameters  = {'kernel': ['linear', 'rbf'], 'C': (0.5, 100)}\n",
    "\n",
    "# we probably should have compact support \n",
    "svr = svm.SVC()\n",
    "\n",
    "clf = SigOptSearchCV(svr, svc_parameters, cv=5,\n",
    "                client_token=client_token, n_jobs=5, n_iter=20)\n",
    "\n",
    "clf.fit(inputs, klass)\n",
    "\n",
    "print(clf)\n",
    "\n"
   ]
  },
  {
   "cell_type": "code",
   "execution_count": 13,
   "metadata": {
    "collapsed": true
   },
   "outputs": [],
   "source": [
    "test = np.array([clf.predict([[last[PCAS] + np.random.randn() * 0.1, last[PINP] + \n",
    "                                                 np.random.randn()]])[0] for i in range(0,100)])\n"
   ]
  },
  {
   "cell_type": "code",
   "execution_count": 14,
   "metadata": {},
   "outputs": [
    {
     "data": {
      "image/png": "[encoded data removed]",
      "text/plain": [
       "<matplotlib.figure.Figure at 0x7f5e303d0110>"
      ]
     },
     "metadata": {},
     "output_type": "display_data"
    }
   ],
   "source": [
    "plt.bar([1,0], [np.sum(test < 0), np.sum(test>0)], align='center', alpha=0.5)\n",
    "plt.xticks([1,0], [\"Pass\", \"Fail\"])\n",
    "plt.ylabel('Percentage')\n",
    "plt.show()"
   ]
  }
 ],
 "metadata": {
  "kernelspec": {
   "display_name": "Python 2",
   "language": "python",
   "name": "python2"
  },
  "language_info": {
   "codemirror_mode": {
    "name": "ipython",
    "version": 2
   },
   "file_extension": ".py",
   "mimetype": "text/x-python",
   "name": "python",
   "nbconvert_exporter": "python",
   "pygments_lexer": "ipython2",
   "version": "2.7.12"
  }
 },
 "nbformat": 4,
 "nbformat_minor": 2
}
